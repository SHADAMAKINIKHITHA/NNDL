{
 "cells": [
  {
   "cell_type": "code",
   "execution_count": 3,
   "metadata": {},
   "outputs": [
    {
     "name": "stdout",
     "output_type": "stream",
     "text": [
      "-0.8 0.8\n",
      "-0.64 0.64\n"
     ]
    }
   ],
   "source": [
    "it=0\n",
    "x=-1\n",
    "y=1\n",
    "n=0.1\n",
    "epochs=2\n",
    "\n",
    "while(it<epochs):\n",
    "    drv_x=2*x\n",
    "    drv_y=2*y\n",
    "    delta_x=-n*(drv_x)\n",
    "    delta_y=-n*(drv_y)\n",
    "    x=x+delta_x\n",
    "    y=y+delta_y\n",
    "    print(x,y)\n",
    "    it=it+1\n",
    "    \n"
   ]
  },
  {
   "cell_type": "code",
   "execution_count": null,
   "metadata": {},
   "outputs": [],
   "source": []
  }
 ],
 "metadata": {
  "kernelspec": {
   "display_name": "Python 3",
   "language": "python",
   "name": "python3"
  },
  "language_info": {
   "codemirror_mode": {
    "name": "ipython",
    "version": 3
   },
   "file_extension": ".py",
   "mimetype": "text/x-python",
   "name": "python",
   "nbconvert_exporter": "python",
   "pygments_lexer": "ipython3",
   "version": "3.7.4"
  }
 },
 "nbformat": 4,
 "nbformat_minor": 2
}
