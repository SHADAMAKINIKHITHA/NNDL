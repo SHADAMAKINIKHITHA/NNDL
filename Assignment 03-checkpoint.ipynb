{
 "cells": [
  {
   "cell_type": "code",
   "execution_count": 30,
   "metadata": {},
   "outputs": [
    {
     "name": "stdout",
     "output_type": "stream",
     "text": [
      "     X    Y\n",
      "0  0.2  3.4\n",
      "1  0.4  3.8\n",
      "2  0.6  4.2\n",
      "3  0.8  4.6\n"
     ]
    }
   ],
   "source": [
    "import pandas as pd\n",
    "data=[[0.2,3.4],[0.4,3.8],[0.6,4.2],[0.8,4.6]]\n",
    "df=pd.DataFrame(data,columns=['X','Y'])\n",
    "print(df)"
   ]
  },
  {
   "cell_type": "code",
   "execution_count": 31,
   "metadata": {},
   "outputs": [
    {
     "name": "stdout",
     "output_type": "stream",
     "text": [
      "1.084 -0.5800000000000001\n",
      "1.241856 -0.18536000000000008\n",
      "1.460270784 0.17866463999999999\n",
      "1.720520282624 0.50397651328\n",
      "1.7715586712279041 0.75916845629952\n",
      "1.8648469942362769 0.9923892638204519\n",
      "1.9901691466145437 1.20125951778423\n",
      "2.1346975598084743 1.3819200342766436\n"
     ]
    }
   ],
   "source": [
    "m=1\n",
    "c=-1\n",
    "n=0.1\n",
    "epochs=2\n",
    "ns=4\n",
    "it=0\n",
    "#sample=0\n",
    "while(it<epochs):\n",
    "    i=0\n",
    "    sample=0\n",
    "    for i in range(len(df)):\n",
    "        \n",
    "        while(sample<ns):\n",
    "            x=df.iloc[i]['X']\n",
    "            y=df.iloc[i]['Y']\n",
    "            \n",
    "            #print(x,y)\n",
    "            diff_m=-(y-m*x-c)*x\n",
    "            diff_c=-(y-m*x-c)\n",
    "            #print(diff_m,diff_c)\n",
    "            delta_m=-n*diff_m\n",
    "            delta_c=-n*diff_c\n",
    "            #print(delta_m,delta_c)\n",
    "            m=m+delta_m\n",
    "            c=c+delta_c\n",
    "            print(m,c)\n",
    "            sample=sample+1\n",
    "            i=i+1\n",
    "            \n",
    "    it=it+1"
   ]
  },
  {
   "cell_type": "markdown",
   "metadata": {},
   "source": []
  }
 ],
 "metadata": {
  "kernelspec": {
   "display_name": "Python 3",
   "language": "python",
   "name": "python3"
  },
  "language_info": {
   "codemirror_mode": {
    "name": "ipython",
    "version": 3
   },
   "file_extension": ".py",
   "mimetype": "text/x-python",
   "name": "python",
   "nbconvert_exporter": "python",
   "pygments_lexer": "ipython3",
   "version": "3.7.4"
  }
 },
 "nbformat": 4,
 "nbformat_minor": 2
}
