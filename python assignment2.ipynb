{
  "nbformat": 4,
  "nbformat_minor": 0,
  "metadata": {
    "colab": {
      "name": "Untitled11.ipynb",
      "provenance": [],
      "collapsed_sections": [],
      "authorship_tag": "ABX9TyPdee6oP1lSIuRquCCy9OUU",
      "include_colab_link": true
    },
    "kernelspec": {
      "name": "python3",
      "display_name": "Python 3"
    },
    "language_info": {
      "name": "python"
    }
  },
  "cells": [
    {
      "cell_type": "markdown",
      "metadata": {
        "id": "view-in-github",
        "colab_type": "text"
      },
      "source": [
        "<a href=\"https://colab.research.google.com/github/SHADAMAKINIKHITHA/NNDL/blob/main/python%20assignment2.ipynb\" target=\"_parent\"><img src=\"https://colab.research.google.com/assets/colab-badge.svg\" alt=\"Open In Colab\"/></a>"
      ]
    },
    {
      "cell_type": "code",
      "metadata": {
        "colab": {
          "base_uri": "https://localhost:8080/"
        },
        "id": "0CoX8crUkt_n",
        "outputId": "21eff91d-2323-4a07-d3c8-ac67954bc24b"
      },
      "source": [
        "cost=int(input())\n",
        "if cost<0:\n",
        "  try:\n",
        "    if cost<0:\n",
        "      raise INVALIDPRODUCTBILLEXCEPTION\n",
        "  except INVALIDPRODUCTBILLEXCEPTION:\n",
        "    print(\"Bill cannot be negative\")\n",
        "else:\n",
        "    print(\"You need to pay amount\",cost)\n"
      ],
      "execution_count": 9,
      "outputs": [
        {
          "output_type": "stream",
          "name": "stdout",
          "text": [
            "600\n",
            "You need to pay amount 600\n"
          ]
        }
      ]
    },
    {
      "cell_type": "code",
      "metadata": {
        "colab": {
          "base_uri": "https://localhost:8080/"
        },
        "id": "6Sn0YfyIotlp",
        "outputId": "6e83d9cb-371b-4d1c-be58-4ae34d70564c"
      },
      "source": [
        "age=int(input())\n",
        "try:\n",
        "  if age < 13:\n",
        "    raise InvalidAccountCreationException\n",
        "  else:\n",
        "    print(\"Account created succesfully\")\n",
        "except InvalidAccountCreationException:\n",
        "  print(\"You are inelligible to signup for Facebook\")\n"
      ],
      "execution_count": 17,
      "outputs": [
        {
          "output_type": "stream",
          "name": "stdout",
          "text": [
            "12\n",
            "You are inelligible to signup for Facebook\n"
          ]
        }
      ]
    },
    {
      "cell_type": "code",
      "metadata": {
        "colab": {
          "base_uri": "https://localhost:8080/"
        },
        "id": "QqqftAHpsfsA",
        "outputId": "32f5125a-d8ad-40f7-ddb4-f8f65263df32"
      },
      "source": [
        "class InvalidMarksException(Exception):\n",
        "  pass\n",
        " \n",
        "marks=int(input())\n",
        "try:\n",
        "  if marks<0 or marks>100:\n",
        "    raise InvalidMarksException\n",
        "  else:\n",
        "    print(\"Marks-\"%m)\n",
        "except InvalidMarksException:\n",
        "  print(\"You entered Invalid marks\")"
      ],
      "execution_count": 41,
      "outputs": [
        {
          "output_type": "stream",
          "name": "stdout",
          "text": [
            "852\n",
            "You entered Invalid marks\n"
          ]
        }
      ]
    },
    {
      "cell_type": "code",
      "metadata": {
        "colab": {
          "base_uri": "https://localhost:8080/"
        },
        "id": "HLaqPAMwuCA8",
        "outputId": "69a7d357-77c9-40f8-ca72-e5bdb674a07c"
      },
      "source": [
        "fd=open(\"inp1.txt\",'x') \n",
        "print(fd)"
      ],
      "execution_count": 44,
      "outputs": [
        {
          "output_type": "stream",
          "name": "stdout",
          "text": [
            "<_io.TextIOWrapper name='inp1.txt' mode='x' encoding='UTF-8'>\n"
          ]
        }
      ]
    },
    {
      "cell_type": "code",
      "metadata": {
        "colab": {
          "base_uri": "https://localhost:8080/"
        },
        "id": "JpF2ramuvr6T",
        "outputId": "f388b6fd-8c10-4361-c086-75ff58cbac9b"
      },
      "source": [
        "fd = open(\"inp1.txt\",'r')\n",
        "i=fd.read()\n",
        "fd.close()\n",
        "print(i)\n",
        "if(i==i[::-1]):\n",
        "  print(\"Palindrome\")\n",
        "else:\n",
        "  print(\"Not Palindrome\")"
      ],
      "execution_count": 57,
      "outputs": [
        {
          "output_type": "stream",
          "name": "stdout",
          "text": [
            "hiiii\n",
            "Not Palindrome\n"
          ]
        }
      ]
    },
    {
      "cell_type": "code",
      "metadata": {
        "colab": {
          "base_uri": "https://localhost:8080/"
        },
        "id": "7ocUC4evyfMH",
        "outputId": "213fbc8b-8ae7-4dce-f4be-894ebb27618e"
      },
      "source": [
        "integers = []\n",
        "for i in range(10):\n",
        "  integers.append(int(input()))\n",
        " \n",
        "\n",
        "reversed_integers = integers[::-1]\n",
        "\n",
        "print(reversed_integers)"
      ],
      "execution_count": 63,
      "outputs": [
        {
          "output_type": "stream",
          "name": "stdout",
          "text": [
            "8\n",
            "1\n",
            "6\n",
            "4\n",
            "4\n",
            "8\n",
            "2\n",
            "0\n",
            "6\n",
            "8\n",
            "[8, 6, 0, 2, 8, 4, 4, 6, 1, 8]\n"
          ]
        }
      ]
    },
    {
      "cell_type": "code",
      "metadata": {
        "colab": {
          "base_uri": "https://localhost:8080/"
        },
        "id": "NWILqj7F0XvU",
        "outputId": "1285630a-edf7-489e-d3fe-850bef603ab4"
      },
      "source": [
        "class InvalidMessageLengthException(Exception):\n",
        "  pass\n",
        "ml=int(input())\n",
        "try:\n",
        "  if ml <0 or ml>160:\n",
        "    raise InvalidMessageLengthException\n",
        "  else:\n",
        "    print(\"Message forwarded succesfully\")\n",
        "except InvalidMessageLengthException:\n",
        "  print(\"Check the length of SMS should be within range 0-160\")"
      ],
      "execution_count": 66,
      "outputs": [
        {
          "output_type": "stream",
          "name": "stdout",
          "text": [
            "183\n",
            "Check the length of SMS should be within range 0-160\n"
          ]
        }
      ]
    },
    {
      "cell_type": "code",
      "metadata": {
        "colab": {
          "base_uri": "https://localhost:8080/"
        },
        "id": "gZqrKKzc1jl1",
        "outputId": "1fe68f0d-db08-4194-80fc-c9de06066f25"
      },
      "source": [
        "n=int(input())\n",
        "l=len(str(n))\n",
        "fd = open(\"inp2.txt\",'w')\n",
        "fd.write(str(l))\n",
        "fd.close()\n"
      ],
      "execution_count": 72,
      "outputs": [
        {
          "name": "stdout",
          "output_type": "stream",
          "text": [
            "36721\n"
          ]
        }
      ]
    },
    {
      "cell_type": "code",
      "metadata": {
        "colab": {
          "base_uri": "https://localhost:8080/"
        },
        "id": "uv5MI7bg2p_z",
        "outputId": "52aec501-9181-4cfe-ce05-d6dce4aaab55"
      },
      "source": [
        "n=int(input())\n",
        "def nat(n):\n",
        "  s=0\n",
        "  for i in range(1,n):\n",
        "    s=s+i\n",
        "  return s\n",
        "\n",
        "print(nat(n))\n",
        "fd = open(\"sumresult.txt\",'w')\n",
        "fd.write(str(nat(n)))\n",
        "fd.close()"
      ],
      "execution_count": 90,
      "outputs": [
        {
          "output_type": "stream",
          "name": "stdout",
          "text": [
            "5\n",
            "10\n"
          ]
        }
      ]
    },
    {
      "cell_type": "code",
      "metadata": {
        "colab": {
          "base_uri": "https://localhost:8080/"
        },
        "id": "plIkIE0P5rUt",
        "outputId": "e9bce931-2f75-409a-c43c-e2c5a3fb9532"
      },
      "source": [
        "class first:#denotes class\n",
        "  def dis(self):\n",
        "    print(\"first method\")\n",
        "\n",
        "str=first()# creating instance of class object\n",
        "str.dis()"
      ],
      "execution_count": 97,
      "outputs": [
        {
          "output_type": "stream",
          "name": "stdout",
          "text": [
            "first method\n"
          ]
        }
      ]
    },
    {
      "cell_type": "code",
      "metadata": {
        "id": "gl7G-HfU6zpT"
      },
      "source": [
        "inp=['ramu','laxman','sita','john']\n",
        "out=list(map(lambda x:x.capitalize(),inp))\n",
        "fd = open(\"listupper.txt\",'w')\n",
        "for i in out:\n",
        "  fd.write(i)\n",
        "fd.close()"
      ],
      "execution_count": 102,
      "outputs": []
    },
    {
      "cell_type": "code",
      "metadata": {
        "colab": {
          "base_uri": "https://localhost:8080/"
        },
        "id": "idZnMBye8bOs",
        "outputId": "40e65d1e-2781-4106-dfa3-2245b3b7b084"
      },
      "source": [
        "class InvalidAgeException(Exception):\n",
        "  pass  \n",
        "age=int(input())\n",
        "try:\n",
        "  if age < 18:\n",
        "    raise InvalidAgeException\n",
        "  else:\n",
        "    print(\"You are elligible to vote\")\n",
        "except InvalidAgeException:\n",
        "  print(\"You are not elligible to vote\")"
      ],
      "execution_count": 106,
      "outputs": [
        {
          "output_type": "stream",
          "name": "stdout",
          "text": [
            "12\n",
            "You are not elligible to vote\n"
          ]
        }
      ]
    },
    {
      "cell_type": "code",
      "metadata": {
        "colab": {
          "base_uri": "https://localhost:8080/"
        },
        "id": "Yxhh-qJ59RB3",
        "outputId": "5204d9a6-8af4-486e-88d0-e8d9708d4bc1"
      },
      "source": [
        "fd1=open(\"stringinput1.txt\",'x') \n",
        "print(fd1)"
      ],
      "execution_count": 110,
      "outputs": [
        {
          "output_type": "stream",
          "name": "stdout",
          "text": [
            "<_io.TextIOWrapper name='stringinput1.txt' mode='x' encoding='UTF-8'>\n"
          ]
        }
      ]
    },
    {
      "cell_type": "code",
      "metadata": {
        "colab": {
          "base_uri": "https://localhost:8080/"
        },
        "id": "0dVsL7Aa9s-w",
        "outputId": "3ca4274b-997a-42b3-8f84-df2b4a7d9665"
      },
      "source": [
        "fd1=open(\"stringinput1.txt\",'r') \n",
        "str=fd1.read()\n",
        "fd1.close()\n",
        "fd2=open(\"reversestr.txt\",'w')\n",
        "fd2.write(str[::-1])\n",
        "print(str[::-1])\n",
        "fd2.close()"
      ],
      "execution_count": 116,
      "outputs": [
        {
          "output_type": "stream",
          "name": "stdout",
          "text": [
            "945K81\n"
          ]
        }
      ]
    },
    {
      "cell_type": "code",
      "metadata": {
        "colab": {
          "base_uri": "https://localhost:8080/",
          "height": 182
        },
        "id": "kRxUCisa_ODF",
        "outputId": "3b04ce26-f43f-4261-a95a-03544099c734"
      },
      "source": [
        "print(x) #throws an Exception NameError\n",
        "print(\"completed\")"
      ],
      "execution_count": 117,
      "outputs": [
        {
          "output_type": "error",
          "ename": "NameError",
          "evalue": "ignored",
          "traceback": [
            "\u001b[0;31m---------------------------------------------------------------------------\u001b[0m",
            "\u001b[0;31mNameError\u001b[0m                                 Traceback (most recent call last)",
            "\u001b[0;32m<ipython-input-117-b595f86cf981>\u001b[0m in \u001b[0;36m<module>\u001b[0;34m()\u001b[0m\n\u001b[0;32m----> 1\u001b[0;31m \u001b[0mprint\u001b[0m\u001b[0;34m(\u001b[0m\u001b[0mx\u001b[0m\u001b[0;34m)\u001b[0m \u001b[0;31m#throws an Exception NameError\u001b[0m\u001b[0;34m\u001b[0m\u001b[0;34m\u001b[0m\u001b[0m\n\u001b[0m\u001b[1;32m      2\u001b[0m \u001b[0mprint\u001b[0m\u001b[0;34m(\u001b[0m\u001b[0;34m\"completed\"\u001b[0m\u001b[0;34m)\u001b[0m\u001b[0;34m\u001b[0m\u001b[0;34m\u001b[0m\u001b[0m\n",
            "\u001b[0;31mNameError\u001b[0m: name 'x' is not defined"
          ]
        }
      ]
    },
    {
      "cell_type": "code",
      "metadata": {
        "colab": {
          "base_uri": "https://localhost:8080/",
          "height": 182
        },
        "id": "7QRyLTZV_QqR",
        "outputId": "13a2eb1f-729d-463f-8de0-3c58559ec8c6"
      },
      "source": [
        "a='25 aaa'\n",
        "print(int(a)) # throws ValueError"
      ],
      "execution_count": 118,
      "outputs": [
        {
          "output_type": "error",
          "ename": "ValueError",
          "evalue": "ignored",
          "traceback": [
            "\u001b[0;31m---------------------------------------------------------------------------\u001b[0m",
            "\u001b[0;31mValueError\u001b[0m                                Traceback (most recent call last)",
            "\u001b[0;32m<ipython-input-118-b60f83377703>\u001b[0m in \u001b[0;36m<module>\u001b[0;34m()\u001b[0m\n\u001b[1;32m      1\u001b[0m \u001b[0ma\u001b[0m\u001b[0;34m=\u001b[0m\u001b[0;34m'25 aaa'\u001b[0m\u001b[0;34m\u001b[0m\u001b[0;34m\u001b[0m\u001b[0m\n\u001b[0;32m----> 2\u001b[0;31m \u001b[0mprint\u001b[0m\u001b[0;34m(\u001b[0m\u001b[0mint\u001b[0m\u001b[0;34m(\u001b[0m\u001b[0ma\u001b[0m\u001b[0;34m)\u001b[0m\u001b[0;34m)\u001b[0m \u001b[0;31m# throws ValueError\u001b[0m\u001b[0;34m\u001b[0m\u001b[0;34m\u001b[0m\u001b[0m\n\u001b[0m",
            "\u001b[0;31mValueError\u001b[0m: invalid literal for int() with base 10: '25 aaa'"
          ]
        }
      ]
    },
    {
      "cell_type": "code",
      "metadata": {
        "colab": {
          "base_uri": "https://localhost:8080/",
          "height": 200
        },
        "id": "r9gInY5t_VMG",
        "outputId": "08618047-8ba7-4673-f505-630c0cbd029b"
      },
      "source": [
        "a=25\n",
        "b=0\n",
        "print(a//b)#throws ZeroDivisionError"
      ],
      "execution_count": 119,
      "outputs": [
        {
          "output_type": "error",
          "ename": "ZeroDivisionError",
          "evalue": "ignored",
          "traceback": [
            "\u001b[0;31m---------------------------------------------------------------------------\u001b[0m",
            "\u001b[0;31mZeroDivisionError\u001b[0m                         Traceback (most recent call last)",
            "\u001b[0;32m<ipython-input-119-e39646ce6a61>\u001b[0m in \u001b[0;36m<module>\u001b[0;34m()\u001b[0m\n\u001b[1;32m      1\u001b[0m \u001b[0ma\u001b[0m\u001b[0;34m=\u001b[0m\u001b[0;36m25\u001b[0m\u001b[0;34m\u001b[0m\u001b[0;34m\u001b[0m\u001b[0m\n\u001b[1;32m      2\u001b[0m \u001b[0mb\u001b[0m\u001b[0;34m=\u001b[0m\u001b[0;36m0\u001b[0m\u001b[0;34m\u001b[0m\u001b[0;34m\u001b[0m\u001b[0m\n\u001b[0;32m----> 3\u001b[0;31m \u001b[0mprint\u001b[0m\u001b[0;34m(\u001b[0m\u001b[0ma\u001b[0m\u001b[0;34m//\u001b[0m\u001b[0mb\u001b[0m\u001b[0;34m)\u001b[0m\u001b[0;31m#throws ZeroDivisionError\u001b[0m\u001b[0;34m\u001b[0m\u001b[0;34m\u001b[0m\u001b[0m\n\u001b[0m",
            "\u001b[0;31mZeroDivisionError\u001b[0m: integer division or modulo by zero"
          ]
        }
      ]
    },
    {
      "cell_type": "code",
      "metadata": {
        "colab": {
          "base_uri": "https://localhost:8080/",
          "height": 217
        },
        "id": "WtP01DTM_c7s",
        "outputId": "4930f1d0-97ae-4cfb-e81a-f32206eaf74a"
      },
      "source": [
        "harrisons_shoes = {\"Nike Air Force 1 07\", \"Nike Air Max Plus\", \"Adidas Gazelle\"}\n",
        "shoe_emporium = {\"Adidas Samba\", \"Adidas Superstar\", \"Nike Air Max Plus\"}\n",
        "harrisons_shoes.extend(shoe_emporium)\n",
        "print(harrisons_shoes)"
      ],
      "execution_count": 121,
      "outputs": [
        {
          "output_type": "error",
          "ename": "AttributeError",
          "evalue": "ignored",
          "traceback": [
            "\u001b[0;31m---------------------------------------------------------------------------\u001b[0m",
            "\u001b[0;31mAttributeError\u001b[0m                            Traceback (most recent call last)",
            "\u001b[0;32m<ipython-input-121-be69d531e57f>\u001b[0m in \u001b[0;36m<module>\u001b[0;34m()\u001b[0m\n\u001b[1;32m      1\u001b[0m \u001b[0mharrisons_shoes\u001b[0m \u001b[0;34m=\u001b[0m \u001b[0;34m{\u001b[0m\u001b[0;34m\"Nike Air Force 1 07\"\u001b[0m\u001b[0;34m,\u001b[0m \u001b[0;34m\"Nike Air Max Plus\"\u001b[0m\u001b[0;34m,\u001b[0m \u001b[0;34m\"Adidas Gazelle\"\u001b[0m\u001b[0;34m}\u001b[0m\u001b[0;34m\u001b[0m\u001b[0;34m\u001b[0m\u001b[0m\n\u001b[1;32m      2\u001b[0m \u001b[0mshoe_emporium\u001b[0m \u001b[0;34m=\u001b[0m \u001b[0;34m{\u001b[0m\u001b[0;34m\"Adidas Samba\"\u001b[0m\u001b[0;34m,\u001b[0m \u001b[0;34m\"Adidas Superstar\"\u001b[0m\u001b[0;34m,\u001b[0m \u001b[0;34m\"Nike Air Max Plus\"\u001b[0m\u001b[0;34m}\u001b[0m\u001b[0;34m\u001b[0m\u001b[0;34m\u001b[0m\u001b[0m\n\u001b[0;32m----> 3\u001b[0;31m \u001b[0mharrisons_shoes\u001b[0m\u001b[0;34m.\u001b[0m\u001b[0mextend\u001b[0m\u001b[0;34m(\u001b[0m\u001b[0mshoe_emporium\u001b[0m\u001b[0;34m)\u001b[0m\u001b[0;34m\u001b[0m\u001b[0;34m\u001b[0m\u001b[0m\n\u001b[0m\u001b[1;32m      4\u001b[0m \u001b[0mprint\u001b[0m\u001b[0;34m(\u001b[0m\u001b[0mharrisons_shoes\u001b[0m\u001b[0;34m)\u001b[0m\u001b[0;34m\u001b[0m\u001b[0;34m\u001b[0m\u001b[0m\n",
            "\u001b[0;31mAttributeError\u001b[0m: 'set' object has no attribute 'extend'"
          ]
        }
      ]
    },
    {
      "cell_type": "code",
      "metadata": {
        "colab": {
          "base_uri": "https://localhost:8080/"
        },
        "id": "9PuTBn1tASCC",
        "outputId": "7bb0e43b-98ec-48bb-d99c-1f3d723cee30"
      },
      "source": [
        "class InvalidFileSizeException(Exception):\n",
        "  pass\n",
        "size=int(input())\n",
        "try:\n",
        "  if size <0 or size>20:\n",
        "    raise InvalidFileSizeException\n",
        "  else:\n",
        "    print(\"you can upload file now...\")\n",
        "except InvalidFileSizeException:\n",
        "  print(\"Check the size of attached file\")"
      ],
      "execution_count": 122,
      "outputs": [
        {
          "output_type": "stream",
          "name": "stdout",
          "text": [
            "300\n",
            "Check the size of attached file\n"
          ]
        }
      ]
    },
    {
      "cell_type": "code",
      "metadata": {
        "colab": {
          "base_uri": "https://localhost:8080/"
        },
        "id": "vdcpauhpAwgb",
        "outputId": "2c5a51e4-d473-4809-badd-561ba0bfe1d5"
      },
      "source": [
        "inp=[1,2,5,4,8,10,13,15,18,30]\n",
        "print(list(filter(lambda x:x%5!=0,inp)))"
      ],
      "execution_count": 123,
      "outputs": [
        {
          "output_type": "stream",
          "name": "stdout",
          "text": [
            "[1, 2, 4, 8, 13, 18]\n"
          ]
        }
      ]
    },
    {
      "cell_type": "code",
      "metadata": {
        "colab": {
          "base_uri": "https://localhost:8080/"
        },
        "id": "SdNmvGqQBNIj",
        "outputId": "132b86cc-6b7e-40d5-a89d-e89e9700caa2"
      },
      "source": [
        "import sqlite3\n",
        "conn = sqlite3.connect('details.db')\n",
        "createstmt='''create table IF NOT EXISTS personal_details(name text not null,age int not null,fathername text not null,address text not null,hobbies text not null)'''\n",
        "conn.execute(createstmt)\n"
      ],
      "execution_count": 128,
      "outputs": [
        {
          "output_type": "execute_result",
          "data": {
            "text/plain": [
              "<sqlite3.Cursor at 0x7f9656cf0960>"
            ]
          },
          "metadata": {},
          "execution_count": 128
        }
      ]
    },
    {
      "cell_type": "code",
      "metadata": {
        "colab": {
          "base_uri": "https://localhost:8080/"
        },
        "id": "uo9BptT4CWE-",
        "outputId": "35b9a559-7661-42d8-9eb8-72ae524ffeec"
      },
      "source": [
        "createstmt='''create table IF NOT EXISTS student_details(name text not null,age int not null,markspercentage number(2,3) not null,branch text not null)'''\n",
        "conn.execute(createstmt)"
      ],
      "execution_count": 129,
      "outputs": [
        {
          "output_type": "execute_result",
          "data": {
            "text/plain": [
              "<sqlite3.Cursor at 0x7f9656c39f80>"
            ]
          },
          "metadata": {},
          "execution_count": 129
        }
      ]
    },
    {
      "cell_type": "code",
      "metadata": {
        "colab": {
          "base_uri": "https://localhost:8080/"
        },
        "id": "SPNaEhg6DFHo",
        "outputId": "d7ab2c4b-86ef-4881-9528-05bebcd722ae"
      },
      "source": [
        "con=['finland','germany','sweden','ireland','turkey']\n",
        "print(list(filter(lambda x:'and' in x,con)))"
      ],
      "execution_count": 131,
      "outputs": [
        {
          "output_type": "stream",
          "name": "stdout",
          "text": [
            "['finland', 'ireland']\n"
          ]
        }
      ]
    },
    {
      "cell_type": "code",
      "metadata": {
        "colab": {
          "base_uri": "https://localhost:8080/"
        },
        "id": "GFyI-xTDDmbu",
        "outputId": "0eb0ff9b-5504-4eff-c223-1205bf5c5000"
      },
      "source": [
        "inp=[1,2,6,4,8,9,13,15,18,30]\n",
        "print(list(filter(lambda x:x%3!=0,inp)))"
      ],
      "execution_count": 132,
      "outputs": [
        {
          "output_type": "stream",
          "name": "stdout",
          "text": [
            "[1, 2, 4, 8, 13]\n"
          ]
        }
      ]
    }
  ]
}