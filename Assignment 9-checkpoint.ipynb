{
 "cells": [
  {
   "cell_type": "code",
   "execution_count": 4,
   "metadata": {},
   "outputs": [
    {
     "name": "stdout",
     "output_type": "stream",
     "text": [
      "     X    Y\n",
      "0  0.2  3.4\n",
      "1  0.4  3.8\n"
     ]
    }
   ],
   "source": [
    "import pandas as pd\n",
    "data=[[0.2,3.4],[0.4,3.8]]\n",
    "df=pd.DataFrame(data,columns=['X','Y'])\n",
    "print(df)"
   ]
  },
  {
   "cell_type": "code",
   "execution_count": 16,
   "metadata": {},
   "outputs": [
    {
     "name": "stdout",
     "output_type": "stream",
     "text": [
      "1.084 -0.5800000000000001\n",
      "1.317456 0.19263999999999992\n",
      "1.5864437759999999 1.18240288\n",
      "1.9078535587839998 2.27149143296\n"
     ]
    }
   ],
   "source": [
    "m=1\n",
    "c=-1\n",
    "n=0.1\n",
    "epochs=2\n",
    "r=0.9\n",
    "ns=2\n",
    "it=0\n",
    "vm=vc=0\n",
    "while(it<epochs):\n",
    "    sample=0\n",
    "    j=0\n",
    "    while(sample<ns):\n",
    "            x=df.iloc[j]['X']\n",
    "            y=df.iloc[j]['Y']\n",
    "            gm=-((y-m*x-c)*x)\n",
    "            gc=-(y-m*x-c)\n",
    "            #print(gm,gc)\n",
    "            vm=(r*vm)-(n*gm)\n",
    "            vc=(r*vc)-(n*gc)\n",
    "            #print(vm,vc)\n",
    "            m=m+vm\n",
    "            c=c+vc\n",
    "            print(m,c)\n",
    "            #print('sample',sample)   \n",
    "            sample=sample+1\n",
    "            j=j+1\n",
    "    #print('iteration ',it)\n",
    "    it=it+1\n",
    "            \n",
    "        "
   ]
  },
  {
   "cell_type": "code",
   "execution_count": null,
   "metadata": {},
   "outputs": [],
   "source": []
  }
 ],
 "metadata": {
  "kernelspec": {
   "display_name": "Python 3",
   "language": "python",
   "name": "python3"
  },
  "language_info": {
   "codemirror_mode": {
    "name": "ipython",
    "version": 3
   },
   "file_extension": ".py",
   "mimetype": "text/x-python",
   "name": "python",
   "nbconvert_exporter": "python",
   "pygments_lexer": "ipython3",
   "version": "3.7.4"
  }
 },
 "nbformat": 4,
 "nbformat_minor": 2
}
