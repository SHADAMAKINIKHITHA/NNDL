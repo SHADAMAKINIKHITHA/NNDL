{
 "cells": [
  {
   "cell_type": "code",
   "execution_count": 19,
   "metadata": {},
   "outputs": [
    {
     "name": "stdout",
     "output_type": "stream",
     "text": [
      "     X    Y\n",
      "0  0.2  3.4\n",
      "1  0.4  3.8\n",
      "2  0.6  4.2\n",
      "3  0.8  4.6\n"
     ]
    }
   ],
   "source": [
    "import pandas as pd\n",
    "data=[[0.2,3.4],[0.4,3.8],[0.6,4.2],[0.8,4.6]]\n",
    "df=pd.DataFrame(data,columns=['X','Y'])\n",
    "print(df)"
   ]
  },
  {
   "cell_type": "code",
   "execution_count": 54,
   "metadata": {},
   "outputs": [
    {
     "name": "stdout",
     "output_type": "stream",
     "text": [
      "1.13 -0.5700000000000001\n",
      "1.2458 -0.18690000000000007\n"
     ]
    }
   ],
   "source": [
    "m=1\n",
    "c=-1\n",
    "n=0.1\n",
    "epochs=2\n",
    "ns=2\n",
    "it=0\n",
    "\n",
    "n1=0\n",
    "while(it<epochs):  \n",
    "    #i=0\n",
    "    #while(n1<ns):\n",
    "    sum_m=0\n",
    "    sum_c=0\n",
    "    for i in range(ns):        \n",
    "            x=df.iloc[i]['X']\n",
    "            y=df.iloc[i]['Y']\n",
    "            sum_m=sum_m+((y-m*x-c)*x)\n",
    "            sum_c=sum_c+(y-m*x-c)\n",
    "            #print(sum_m,sum_c)\n",
    "            #n1=n1+1\n",
    "    \n",
    "    diff_m=-(1/ns)*(sum_m)\n",
    "    diff_c=-(1/ns)*(sum_c)\n",
    "    #print('differentiation')\n",
    "    #print(diff_m,diff_c)\n",
    "    delta_m=-n*(diff_m)\n",
    "    delta_c=-n*(diff_c)\n",
    "    #print(delta_m,delta_c)\n",
    "    m=m+delta_m\n",
    "    c=c+delta_c\n",
    "    print(m,c)\n",
    "    it=it+1"
   ]
  },
  {
   "cell_type": "code",
   "execution_count": null,
   "metadata": {},
   "outputs": [],
   "source": []
  },
  {
   "cell_type": "code",
   "execution_count": null,
   "metadata": {},
   "outputs": [],
   "source": []
  }
 ],
 "metadata": {
  "kernelspec": {
   "display_name": "Python 3",
   "language": "python",
   "name": "python3"
  },
  "language_info": {
   "codemirror_mode": {
    "name": "ipython",
    "version": 3
   },
   "file_extension": ".py",
   "mimetype": "text/x-python",
   "name": "python",
   "nbconvert_exporter": "python",
   "pygments_lexer": "ipython3",
   "version": "3.7.4"
  }
 },
 "nbformat": 4,
 "nbformat_minor": 2
}
