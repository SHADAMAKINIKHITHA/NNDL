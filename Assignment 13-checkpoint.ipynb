{
 "cells": [
  {
   "cell_type": "code",
   "execution_count": 1,
   "metadata": {},
   "outputs": [
    {
     "name": "stdout",
     "output_type": "stream",
     "text": [
      "     X    Y\n",
      "0  0.2  3.4\n",
      "1  0.4  3.8\n"
     ]
    }
   ],
   "source": [
    "import pandas as pd\n",
    "data=[[0.2,3.4],[0.4,3.8]]\n",
    "df=pd.DataFrame(data,columns=['X','Y'])\n",
    "print(df)"
   ]
  },
  {
   "cell_type": "code",
   "execution_count": 9,
   "metadata": {},
   "outputs": [
    {
     "name": "stdout",
     "output_type": "stream",
     "text": [
      "1e-08\n",
      "1.0999999992913831 -0.9000000000283447\n",
      "1.189693949843711 -0.8287896186389778\n",
      "1.228427792321005 -0.7732939139631835\n",
      "1.290531251865677 -0.7239298295679664\n"
     ]
    }
   ],
   "source": [
    "m=1\n",
    "c=-1\n",
    "n=0.1\n",
    "epochs=2\n",
    "e=10**-8\n",
    "#print(e)\n",
    "ns=len(df)\n",
    "it=0\n",
    "Gm=0\n",
    "Gc=0\n",
    "while(it<epochs):\n",
    "    sample=0\n",
    "    j=0\n",
    "    while(sample<ns):\n",
    "            x=df.iloc[j]['X']\n",
    "            y=df.iloc[j]['Y']\n",
    "            #print(m,c)\n",
    "            gm=-((y-(m*x)-c)*x)\n",
    "            gc=-(y-(m*x)-c)\n",
    "            #print(gm,gc)\n",
    "            Gm=Gm+(gm)**2\n",
    "            Gc=Gc+(gc)**2\n",
    "            delta_m=-((n/((Gm+e)**0.5))*gm)\n",
    "            delta_c=-((n/((Gc+e)**0.5))*gc)\n",
    "            #print(delta_m,delta_c)\n",
    "            m=m+delta_m\n",
    "            c=c+delta_c\n",
    "            print(m,c)\n",
    "            #print('sample',sample)   \n",
    "            sample=sample+1\n",
    "            j=j+1\n",
    "    #print('iteration ',it)\n",
    "    it=it+1\n",
    "            \n",
    "        "
   ]
  },
  {
   "cell_type": "code",
   "execution_count": null,
   "metadata": {},
   "outputs": [],
   "source": []
  }
 ],
 "metadata": {
  "kernelspec": {
   "display_name": "Python 3",
   "language": "python",
   "name": "python3"
  },
  "language_info": {
   "codemirror_mode": {
    "name": "ipython",
    "version": 3
   },
   "file_extension": ".py",
   "mimetype": "text/x-python",
   "name": "python",
   "nbconvert_exporter": "python",
   "pygments_lexer": "ipython3",
   "version": "3.7.4"
  }
 },
 "nbformat": 4,
 "nbformat_minor": 2
}
